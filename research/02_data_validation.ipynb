{
 "cells": [
  {
   "cell_type": "code",
   "execution_count": 1,
   "metadata": {},
   "outputs": [],
   "source": [
    "import os"
   ]
  },
  {
   "cell_type": "code",
   "execution_count": 2,
   "metadata": {},
   "outputs": [
    {
     "data": {
      "text/plain": [
       "'d:\\\\Data Science\\\\NLP\\\\SentimentAnalysis\\\\research'"
      ]
     },
     "execution_count": 2,
     "metadata": {},
     "output_type": "execute_result"
    }
   ],
   "source": [
    "%pwd"
   ]
  },
  {
   "cell_type": "code",
   "execution_count": 3,
   "metadata": {},
   "outputs": [],
   "source": [
    "os.chdir(\"../\")\n"
   ]
  },
  {
   "cell_type": "code",
   "execution_count": 4,
   "metadata": {},
   "outputs": [
    {
     "data": {
      "text/plain": [
       "'d:\\\\Data Science\\\\NLP\\\\SentimentAnalysis'"
      ]
     },
     "execution_count": 4,
     "metadata": {},
     "output_type": "execute_result"
    }
   ],
   "source": [
    "%pwd"
   ]
  },
  {
   "cell_type": "markdown",
   "metadata": {},
   "source": [
    "# Data validation file\n",
    "### a.\tTo be updated entity > constructor file (__init__.py)"
   ]
  },
  {
   "cell_type": "code",
   "execution_count": 5,
   "metadata": {},
   "outputs": [],
   "source": [
    "from dataclasses import dataclass\n",
    "from pathlib import Path\n",
    "\n",
    "@dataclass(frozen=True)\n",
    "class DataValidationConfig:\n",
    "    root_dir: Path\n",
    "    STATUS_FILE: str\n",
    "    ALL_REQUIRED_FILES: list"
   ]
  },
  {
   "cell_type": "markdown",
   "metadata": {},
   "source": [
    "### b.\tTo be updated config > configuration.py file"
   ]
  },
  {
   "cell_type": "code",
   "execution_count": 6,
   "metadata": {},
   "outputs": [],
   "source": [
    "from SentimentAnalysis.constants import *\n",
    "from SentimentAnalysis.utils.common import read_yaml\n",
    "from SentimentAnalysis.utils.common import create_directories"
   ]
  },
  {
   "cell_type": "code",
   "execution_count": 7,
   "metadata": {},
   "outputs": [],
   "source": [
    "class ConfigurationManager:\n",
    "    \n",
    "    def __init__(\n",
    "                self,\n",
    "                config_file_path = CONFIG_FILE_PATH,\n",
    "                params_file_path = PARAMS_FILE_PATH):\n",
    "            \n",
    "\n",
    "            self.config = read_yaml(config_file_path)\n",
    "            self.params = read_yaml(params_file_path)\n",
    "\n",
    "            create_directories([self.config.dataStore_root])\n",
    "\n",
    "    def get_data_validation_config(self)-> DataValidationConfig:\n",
    "          config = self.config.data_validation\n",
    "\n",
    "          create_directories([config.root_dir])\n",
    "          \n",
    "\n",
    "          data_validation_config = DataValidationConfig(\n",
    "                root_dir=config.root_dir,\n",
    "                STATUS_FILE=config.STATUS_FILE,\n",
    "                ALL_REQUIRED_FILES=config.ALL_REQUIRED_FILES,\n",
    "                \n",
    "          )     \n",
    "          return data_validation_config "
   ]
  },
  {
   "cell_type": "markdown",
   "metadata": {},
   "source": [
    "### c.\tTo be updated components folder inside src folder\n",
    "i.\tdata_validation.py file (it should be created by engineer)"
   ]
  },
  {
   "cell_type": "code",
   "execution_count": 11,
   "metadata": {},
   "outputs": [],
   "source": [
    "import os\n",
    "from SentimentAnalysis.logging import logger"
   ]
  },
  {
   "cell_type": "code",
   "execution_count": 12,
   "metadata": {},
   "outputs": [
    {
     "name": "stdout",
     "output_type": "stream",
     "text": [
      "[2023-07-29 18:38:38,442: INFO: common: YAML file loaded successfully: config\\config.yaml]\n",
      "[2023-07-29 18:38:38,447: INFO: common: YAML file loaded successfully: params.yaml]\n",
      "[2023-07-29 18:38:38,448: INFO: common: Created directory at: dataStore]\n",
      "[2023-07-29 18:38:38,450: INFO: common: Created directory at: dataStore/data_validation]\n"
     ]
    }
   ],
   "source": [
    "class DataValidation:\n",
    "    def __init__(self, config: DataValidationConfig):\n",
    "        self.config = config\n",
    "\n",
    "    def validate_all_files_exist(self, csv_file_name: str) -> bool:\n",
    "        try:\n",
    "            all_files = os.listdir(os.path.join(\"dataStore\", \"data_ingestion\", \"IMDB_datasets\"))\n",
    "\n",
    "            for file in all_files:\n",
    "                if file not in self.config.ALL_REQUIRED_FILES:\n",
    "                    validation_status = False\n",
    "                    break\n",
    "            else:\n",
    "                validation_status = True\n",
    "\n",
    "            with open(self.config.STATUS_FILE, \"w\") as f:\n",
    "                f.write(f\"Validation Status: {validation_status}\")\n",
    "\n",
    "            return validation_status\n",
    "\n",
    "        except Exception as e:\n",
    "            raise e\n",
    "\n",
    "try:\n",
    "    config_manager = ConfigurationManager()\n",
    "    data_validation_config = config_manager.get_data_validation_config()\n",
    "    data_validation = DataValidation(config=data_validation_config)\n",
    "    csv_file_name = \"imdb-validate.csv\"\n",
    "    data_validation.validate_all_files_exist(csv_file_name)\n",
    "\n",
    "except Exception as e:\n",
    "    raise e\n"
   ]
  },
  {
   "cell_type": "code",
   "execution_count": 10,
   "metadata": {},
   "outputs": [],
   "source": [
    "#This is working code dont touch\n",
    "\n",
    "# class DataValidation:\n",
    "#     def __init__(self, config: DataValidationConfig):\n",
    "#         self.config = config\n",
    "\n",
    "\n",
    "#     def validate_all_files_exist(self)-> bool:\n",
    "#         try:\n",
    "#             validation_status = None\n",
    "#             all_files = os.listdir(os.path.join(\"dataStore\",\"data_ingestion\",\"IMDB_datasets\"))\n",
    "            \n",
    "#             for file in all_files:\n",
    "#                 if file not in self.config.ALL_REQUIRED_FILES:\n",
    "#                     validation_status = False\n",
    "#                     with open(self.config.STATUS_FILE, \"w\") as f:\n",
    "#                         f.write(f\"validation status: {validation_status}\")\n",
    "#                 else:\n",
    "#                     validation_status = True\n",
    "#                     with open(self.config.STATUS_FILE,'w') as f:\n",
    "#                         f.write(f\"Validation Status: {validation_status}\")\n",
    "\n",
    "#             return validation_status\n",
    "\n",
    "#         except Exception as e:\n",
    "#             raise e\n"
   ]
  },
  {
   "cell_type": "code",
   "execution_count": 10,
   "metadata": {},
   "outputs": [
    {
     "name": "stdout",
     "output_type": "stream",
     "text": [
      "[2023-07-29 14:18:28,825: INFO: common: YAML file loaded successfully: config\\config.yaml]\n",
      "[2023-07-29 14:18:28,827: INFO: common: YAML file loaded successfully: params.yaml]\n",
      "[2023-07-29 14:18:28,829: INFO: common: Created directory at: dataStore]\n",
      "[2023-07-29 14:18:28,830: INFO: common: Created directory at: dataStore/data_validation]\n"
     ]
    }
   ],
   "source": [
    "# try:\n",
    "#     config_manager = ConfigurationManager()\n",
    "#     data_validation_config = config_manager.get_data_validation_config()\n",
    "#     data_validation = DataValidation(config=data_validation_config)\n",
    "#     data_validation.validate_all_files_exist()\n",
    "    \n",
    "# except Exception as e:\n",
    "#     raise e\n"
   ]
  },
  {
   "cell_type": "code",
   "execution_count": null,
   "metadata": {},
   "outputs": [],
   "source": []
  },
  {
   "cell_type": "code",
   "execution_count": null,
   "metadata": {},
   "outputs": [],
   "source": []
  }
 ],
 "metadata": {
  "kernelspec": {
   "display_name": "Python 3",
   "language": "python",
   "name": "python3"
  },
  "language_info": {
   "codemirror_mode": {
    "name": "ipython",
    "version": 3
   },
   "file_extension": ".py",
   "mimetype": "text/x-python",
   "name": "python",
   "nbconvert_exporter": "python",
   "pygments_lexer": "ipython3",
   "version": "3.8.0"
  },
  "orig_nbformat": 4
 },
 "nbformat": 4,
 "nbformat_minor": 2
}
