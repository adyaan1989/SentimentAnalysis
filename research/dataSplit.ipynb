{
 "cells": [
  {
   "cell_type": "code",
   "execution_count": 2,
   "metadata": {},
   "outputs": [],
   "source": [
    "import os"
   ]
  },
  {
   "cell_type": "code",
   "execution_count": 3,
   "metadata": {},
   "outputs": [
    {
     "data": {
      "text/plain": [
       "'d:\\\\Data Science\\\\NLP\\\\SentimentAnalysis\\\\research'"
      ]
     },
     "execution_count": 3,
     "metadata": {},
     "output_type": "execute_result"
    }
   ],
   "source": [
    "%pwd"
   ]
  },
  {
   "cell_type": "code",
   "execution_count": 4,
   "metadata": {},
   "outputs": [],
   "source": [
    "os.chdir(\"../\")\n"
   ]
  },
  {
   "cell_type": "code",
   "execution_count": 5,
   "metadata": {},
   "outputs": [
    {
     "data": {
      "text/plain": [
       "'d:\\\\Data Science\\\\NLP\\\\SentimentAnalysis'"
      ]
     },
     "execution_count": 5,
     "metadata": {},
     "output_type": "execute_result"
    }
   ],
   "source": [
    "%pwd"
   ]
  },
  {
   "cell_type": "code",
   "execution_count": 7,
   "metadata": {},
   "outputs": [
    {
     "name": "stdout",
     "output_type": "stream",
     "text": [
      "                                                  review sentiment\n",
      "10650  I don't want to bore everyone by reiterating w...  positive\n",
      "2041   I like Wes Studi & especially Adam Beach, but ...  negative\n",
      "8668   I'm sure this was one of those \"WOAH!\" attract...  negative\n",
      "1114   As a fan of Henriksen (I liked him in the \"Mil...  negative\n",
      "13902  Best animated movie ever made. This film explo...  positive\n"
     ]
    }
   ],
   "source": [
    "import pandas as pd\n",
    "import random\n",
    "\n",
    "def read_data_from_csv(file_path,nrows=None):\n",
    "    return pd.read_csv(file_path,nrows=nrows)\n",
    "\n",
    "def split_data(data, train_ratio, test_ratio, validate_ratio):\n",
    "    total_size = len(data)\n",
    "    train_size = int(total_size * train_ratio)\n",
    "    test_size = int(total_size * test_ratio)\n",
    "    validate_size = total_size - train_size - test_size\n",
    "\n",
    "    # Shuffle the data randomly\n",
    "    data = data.sample(frac=1, random_state=42)\n",
    "\n",
    "    # Split the data\n",
    "    train_data = data.iloc[:train_size]\n",
    "    test_data = data.iloc[train_size:train_size + test_size]\n",
    "    validate_data = data.iloc[train_size + test_size:]\n",
    "\n",
    "    return train_data, test_data, validate_data\n",
    "\n",
    "def main():\n",
    "    original_file_path = r'D:\\Data Science\\NLP\\IMDB_Dataset\\IMDB_Dataset.csv'\n",
    "    nrows_to_read = 20000  # Specify the number of rows to read\n",
    "    # Read data from the original CSV file\n",
    "    data = read_data_from_csv(original_file_path, nrows=nrows_to_read)\n",
    "\n",
    "    # Split data into train, test, and validate sets\n",
    "    train_data, test_data, validate_data = split_data(data, train_ratio=0.7, test_ratio=0.2, validate_ratio=0.1)\n",
    "\n",
    "    # Your further processing with the train_data, test_data, and validate_data dataframes\n",
    "\n",
    "    # Example: Print the first few rows of the train_data dataframe\n",
    "    print(train_data.head())\n",
    "\n",
    "    # Example: Save the train, test, and validate dataframes to CSV files\n",
    "    train_data.to_csv('train.csv', index=False)\n",
    "    test_data.to_csv('test.csv', index=False)\n",
    "    validate_data.to_csv('validate.csv', index=False)\n",
    "\n",
    "if __name__ == '__main__':\n",
    "    main()\n"
   ]
  },
  {
   "cell_type": "code",
   "execution_count": 18,
   "metadata": {},
   "outputs": [
    {
     "data": {
      "text/plain": [
       "'d:\\\\Data Science\\\\NLP\\\\SentimentAnalysis'"
      ]
     },
     "execution_count": 18,
     "metadata": {},
     "output_type": "execute_result"
    }
   ],
   "source": [
    "pwd"
   ]
  }
 ],
 "metadata": {
  "kernelspec": {
   "display_name": "Python 3",
   "language": "python",
   "name": "python3"
  },
  "language_info": {
   "codemirror_mode": {
    "name": "ipython",
    "version": 3
   },
   "file_extension": ".py",
   "mimetype": "text/x-python",
   "name": "python",
   "nbconvert_exporter": "python",
   "pygments_lexer": "ipython3",
   "version": "3.8.0"
  },
  "orig_nbformat": 4
 },
 "nbformat": 4,
 "nbformat_minor": 2
}
