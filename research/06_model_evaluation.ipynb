{
 "cells": [
  {
   "cell_type": "code",
   "execution_count": 1,
   "metadata": {},
   "outputs": [],
   "source": [
    "import os"
   ]
  },
  {
   "cell_type": "code",
   "execution_count": 2,
   "metadata": {},
   "outputs": [
    {
     "data": {
      "text/plain": [
       "'d:\\\\Data Science\\\\NLP\\\\SentimentAnalysis\\\\research'"
      ]
     },
     "execution_count": 2,
     "metadata": {},
     "output_type": "execute_result"
    }
   ],
   "source": [
    "%pwd"
   ]
  },
  {
   "cell_type": "code",
   "execution_count": 3,
   "metadata": {},
   "outputs": [],
   "source": [
    "os.chdir(\"../\")\n"
   ]
  },
  {
   "cell_type": "code",
   "execution_count": 4,
   "metadata": {},
   "outputs": [
    {
     "data": {
      "text/plain": [
       "'d:\\\\Data Science\\\\NLP\\\\SentimentAnalysis'"
      ]
     },
     "execution_count": 4,
     "metadata": {},
     "output_type": "execute_result"
    }
   ],
   "source": [
    "%pwd"
   ]
  },
  {
   "cell_type": "code",
   "execution_count": 5,
   "metadata": {},
   "outputs": [],
   "source": [
    "from dataclasses import dataclass\n",
    "from pathlib import Path\n",
    "\n",
    "@dataclass(frozen=True)\n",
    "class ModelEvalutationConfig: \n",
    "    root_dir: Path\n",
    "    X_test_data_path: Path\n",
    "    y_test_data_path: Path\n",
    "    model_path: Path\n",
    "    "
   ]
  },
  {
   "cell_type": "code",
   "execution_count": 6,
   "metadata": {},
   "outputs": [],
   "source": [
    "from SentimentAnalysis.constants import *\n",
    "from SentimentAnalysis.utils.common import read_yaml\n",
    "from SentimentAnalysis.utils.common import create_directories"
   ]
  },
  {
   "cell_type": "code",
   "execution_count": 7,
   "metadata": {},
   "outputs": [],
   "source": [
    "class ConfigurationManager:\n",
    "    def __init__(\n",
    "            self,\n",
    "            config_filepath = CONFIG_FILE_PATH,\n",
    "            params_filepath = PARAMS_FILE_PATH):\n",
    "\n",
    "            self.config = read_yaml(config_filepath)\n",
    "            #self.params = read_yaml(params_filepath)\n",
    "\n",
    "            create_directories([self.config.dataStore_root])\n",
    "\n",
    "    #2. To be updated configuration inside config into Configuration\n",
    "\n",
    "    def get_model_evaluation_config(self) -> ModelEvalutationConfig:\n",
    "          config = self.config.model_evaluation\n",
    "\n",
    "          create_directories([config.root_dir])\n",
    "\n",
    "          model_evaluation_config = ModelEvalutationConfig(\n",
    "                root_dir=config.root_dir,\n",
    "                X_test_data_path=config.X_test_data_path,\n",
    "                y_test_data_path=config.y_test_data_path,\n",
    "                model_path=config.model_path,\n",
    "                #metric_file_name=config.metric_file_name\n",
    "\n",
    "          )\n",
    "\n",
    "          return model_evaluation_config\n",
    "    "
   ]
  },
  {
   "cell_type": "code",
   "execution_count": 8,
   "metadata": {},
   "outputs": [],
   "source": [
    "import os\n",
    "import pandas as pd\n",
    "import numpy as np\n",
    "from SentimentAnalysis.logging import logger\n",
    "from pathlib import Path\n",
    "import tensorflow as tf\n",
    "import joblib"
   ]
  },
  {
   "cell_type": "code",
   "execution_count": 11,
   "metadata": {},
   "outputs": [],
   "source": [
    "class Modevalutation:\n",
    "    def __init__(self, config: ModelEvalutationConfig):\n",
    "        self.config = config\n",
    "        self.threshold = 0.5\n",
    "    \n",
    "    def evaluate_and_compare_model(self):\n",
    "        X_test = np.load(self.config.X_test_data_path)\n",
    "        y_test = pd.read_csv(self.config.y_test_data_path)\n",
    "\n",
    "        model = joblib.load(self.config.model_path)\n",
    "        _, test_accuracy = model.evaluate(X_test, y_test)\n",
    "        print(\"Test set accuracy:\", test_accuracy)\n",
    "    \n",
    "        # Use model.predict to get the probability predictions\n",
    "        y_test_pred_prob = model.predict(X_test)\n",
    "\n",
    "        # Convert probability predictions to binary predictions based on the threshold\n",
    "        y_test_pred_binary = (y_test_pred_prob > self.threshold).astype(int)\n",
    "\n",
    "        # Flatten the arrays\n",
    "        y_test_flat = np.ravel(y_test)\n",
    "        binary_predictions_flat = np.ravel(y_test_pred_binary)\n",
    "\n",
    "        # Create the actvsPred DataFrame\n",
    "        actvsPred = pd.DataFrame({'Actual': y_test_flat, 'Predictions': binary_predictions_flat})\n",
    "\n",
    "        # Print the actvsPred DataFrame\n",
    "        actvsPred['diff'] = actvsPred['Actual'] - actvsPred['Predictions']\n",
    "        print(actvsPred.head(20))\n",
    "        return actvsPred\n"
   ]
  },
  {
   "cell_type": "code",
   "execution_count": 12,
   "metadata": {},
   "outputs": [
    {
     "name": "stdout",
     "output_type": "stream",
     "text": [
      "[2023-08-12 00:00:26,837: INFO: common: YAML file loaded successfully: config\\config.yaml]\n",
      "[2023-08-12 00:00:26,837: INFO: common: Created directory at: dataStore]\n",
      "[2023-08-12 00:00:26,837: INFO: common: Created directory at: dataStore/model_evaluation]\n",
      "188/188 [==============================] - 5s 25ms/step - loss: 0.4982 - accuracy: 0.8753\n",
      "Test set accuracy: 0.875333309173584\n",
      "188/188 [==============================] - 5s 25ms/step\n",
      "    Actual  Predictions  diff\n",
      "0        1            0     1\n",
      "1        0            0     0\n",
      "2        0            0     0\n",
      "3        1            1     0\n",
      "4        1            1     0\n",
      "5        1            1     0\n",
      "6        1            1     0\n",
      "7        1            1     0\n",
      "8        1            1     0\n",
      "9        0            0     0\n",
      "10       0            0     0\n",
      "11       0            0     0\n",
      "12       0            0     0\n",
      "13       0            0     0\n",
      "14       0            0     0\n",
      "15       1            1     0\n",
      "16       0            0     0\n",
      "17       1            1     0\n",
      "18       0            0     0\n",
      "19       1            1     0\n"
     ]
    }
   ],
   "source": [
    "\n",
    "\n",
    "try:\n",
    "    config_manager = ConfigurationManager()\n",
    "    model_evaluation_config = config_manager.get_model_evaluation_config()\n",
    "    model_evaluation_config = Modevalutation(config=model_evaluation_config)\n",
    "    model_evaluation_config.evaluate_and_compare_model()\n",
    "    \n",
    "except Exception as e:\n",
    "    raise e"
   ]
  },
  {
   "cell_type": "code",
   "execution_count": null,
   "metadata": {},
   "outputs": [],
   "source": []
  }
 ],
 "metadata": {
  "kernelspec": {
   "display_name": "Python 3",
   "language": "python",
   "name": "python3"
  },
  "language_info": {
   "codemirror_mode": {
    "name": "ipython",
    "version": 3
   },
   "file_extension": ".py",
   "mimetype": "text/x-python",
   "name": "python",
   "nbconvert_exporter": "python",
   "pygments_lexer": "ipython3",
   "version": "3.8.0"
  },
  "orig_nbformat": 4
 },
 "nbformat": 4,
 "nbformat_minor": 2
}
